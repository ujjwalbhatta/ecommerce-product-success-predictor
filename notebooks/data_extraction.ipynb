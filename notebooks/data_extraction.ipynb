{
 "cells": [
  {
   "cell_type": "code",
   "execution_count": 11,
   "metadata": {},
   "outputs": [
    {
     "name": "stdout",
     "output_type": "stream",
     "text": [
      "Sampling 50k reviews first...\n"
     ]
    },
    {
     "name": "stderr",
     "output_type": "stream",
     "text": [
      "Sampling reviews: 100%|██████████| 43886944/43886944 [00:13<00:00, 3171601.51it/s]\n"
     ]
    },
    {
     "name": "stdout",
     "output_type": "stream",
     "text": [
      "Sampled 49662 reviews\n",
      "Loading metadata for 33585 unique products...\n"
     ]
    },
    {
     "name": "stderr",
     "output_type": "stream",
     "text": [
      "Reading metadata: 1610012it [00:18, 85608.51it/s] \n"
     ]
    },
    {
     "name": "stdout",
     "output_type": "stream",
     "text": [
      "Loaded metadata for 33585 products\n"
     ]
    },
    {
     "name": "stderr",
     "output_type": "stream",
     "text": [
      "Merging data: 100%|██████████| 49662/49662 [00:00<00:00, 317011.09it/s]\n"
     ]
    },
    {
     "name": "stdout",
     "output_type": "stream",
     "text": [
      "Saved 30000 records to electronics_merged_30k.csv\n"
     ]
    }
   ],
   "source": [
    "import json\n",
    "import pandas as pd\n",
    "import random\n",
    "from tqdm import tqdm\n",
    "from datetime import datetime\n",
    "\n",
    "# Set random seed\n",
    "random.seed(42)\n",
    "\n",
    "# File paths\n",
    "review_file = \"/Users/ujjwalbhatta/Downloads/Electronics.jsonl\"\n",
    "meta_file = \"/Users/ujjwalbhatta/Downloads/meta_Electronics.jsonl\"\n",
    "output_file = \"electronics_merged_30k.csv\"\n",
    "\n",
    "def simple_merge_with_meta():\n",
    "    print(\"Sampling 50k reviews first...\")\n",
    "    sampled_reviews = []\n",
    "    sample_target = 50000\n",
    "    \n",
    "    with open(review_file, 'r') as f:\n",
    "        total_lines = sum(1 for _ in f)\n",
    "    \n",
    "    sample_prob = min(1.0, sample_target / total_lines)\n",
    "    \n",
    "    with open(review_file, 'r') as f:\n",
    "        for line in tqdm(f, desc=\"Sampling reviews\", total=total_lines):\n",
    "            if random.random() < sample_prob:\n",
    "                review = json.loads(line.strip())\n",
    "                if review.get('parent_asin'):\n",
    "                    sampled_reviews.append(review)\n",
    "                if len(sampled_reviews) >= sample_target:\n",
    "                    break\n",
    "    \n",
    "    print(f\"Sampled {len(sampled_reviews)} reviews\")\n",
    "    \n",
    "    unique_asins = set(review['parent_asin'] for review in sampled_reviews)\n",
    "    print(f\"Loading metadata for {len(unique_asins)} unique products...\")\n",
    "    \n",
    "    meta_dict = {}\n",
    "    with open(meta_file, 'r') as f:\n",
    "        for line in tqdm(f, desc=\"Reading metadata\"):\n",
    "            item = json.loads(line.strip())\n",
    "            parent_asin = item.get('parent_asin')\n",
    "            if parent_asin and parent_asin in unique_asins:\n",
    "                meta_dict[parent_asin] = item\n",
    "    \n",
    "    print(f\"Loaded metadata for {len(meta_dict)} products\")\n",
    "    \n",
    "    merged_data = []\n",
    "    for review in tqdm(sampled_reviews, desc=\"Merging data\"):\n",
    "        parent_asin = review.get('parent_asin')\n",
    "        if parent_asin in meta_dict:\n",
    "            meta = meta_dict[parent_asin]\n",
    "            details = meta.get('details', {})\n",
    "        \n",
    "            brand = details.get(\"Brand\") or details.get(\"Manufacturer\") or meta.get(\"store\") or \"UnknownBrand\"\n",
    "            sort_timestamp = review.get('sort_timestamp')\n",
    "            review_date = None\n",
    "            if sort_timestamp:\n",
    "                try:\n",
    "                    review_date = datetime.fromtimestamp(sort_timestamp / 1000).date()\n",
    "                except:\n",
    "                    review_date = None\n",
    "            \n",
    "            record = {\n",
    "                'parent_asin': parent_asin,\n",
    "                'main_category': meta.get('main_category'),\n",
    "                'sub_category': meta.get('categories')[0] if meta.get('categories') else None,\n",
    "                'product_title': meta.get('title'),\n",
    "                'description': meta.get('description'),\n",
    "                'price': meta.get('price'),\n",
    "                'average_rating': meta.get('average_rating'),\n",
    "                'rating_number': meta.get('rating_number'),\n",
    "\n",
    "                # --- Brand / Store Info ---\n",
    "                'brand': brand,\n",
    "                'store': meta.get('store'),\n",
    "                'details': details,  \n",
    "\n",
    "                # --- Review Info ---\n",
    "                'rating': review.get('rating'),\n",
    "                'review_title': review.get('title'),\n",
    "                'text': review.get('text'),\n",
    "                'helpful_vote': review.get('helpful_votes'),\n",
    "                'verified_purchase': review.get('verified_purchase'),\n",
    "                'review_date': review_date\n",
    "            }\n",
    "            merged_data.append(record)\n",
    "    \n",
    "    final_sample_size = min(30000, len(merged_data))\n",
    "    final_sample = random.sample(merged_data, final_sample_size)\n",
    "    \n",
    "    df = pd.DataFrame(final_sample)\n",
    "    df.to_csv(output_file, index=False)\n",
    "    print(f\"Saved {len(df)} records to {output_file}\")\n",
    "\n",
    "if __name__ == \"__main__\":\n",
    "    simple_merge_with_meta()\n"
   ]
  }
 ],
 "metadata": {
  "kernelspec": {
   "display_name": "base",
   "language": "python",
   "name": "python3"
  },
  "language_info": {
   "codemirror_mode": {
    "name": "ipython",
    "version": 3
   },
   "file_extension": ".py",
   "mimetype": "text/x-python",
   "name": "python",
   "nbconvert_exporter": "python",
   "pygments_lexer": "ipython3",
   "version": "3.12.2"
  }
 },
 "nbformat": 4,
 "nbformat_minor": 2
}
