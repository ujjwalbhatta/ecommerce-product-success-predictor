{
 "cells": [
  {
   "cell_type": "code",
   "execution_count": 2,
   "metadata": {},
   "outputs": [
    {
     "name": "stdout",
     "output_type": "stream",
     "text": [
      "Sampling 50k reviews first...\n"
     ]
    },
    {
     "name": "stderr",
     "output_type": "stream",
     "text": [
      "Sampling reviews: 100%|██████████| 43886944/43886944 [00:14<00:00, 2931429.51it/s]\n"
     ]
    },
    {
     "name": "stdout",
     "output_type": "stream",
     "text": [
      "Sampled 49662 reviews\n",
      "Need metadata for 33585 unique products\n",
      "Loading relevant metadata...\n"
     ]
    },
    {
     "name": "stderr",
     "output_type": "stream",
     "text": [
      "Reading metadata: 1610012it [00:21, 75467.69it/s] \n"
     ]
    },
    {
     "name": "stdout",
     "output_type": "stream",
     "text": [
      "Loaded metadata for 33585 products\n"
     ]
    },
    {
     "name": "stderr",
     "output_type": "stream",
     "text": [
      "Merging data: 100%|██████████| 49662/49662 [00:00<00:00, 358734.11it/s]\n"
     ]
    },
    {
     "name": "stdout",
     "output_type": "stream",
     "text": [
      "Saved 30000 records to electronics_merged_30k.csv\n"
     ]
    }
   ],
   "source": [
    "import json\n",
    "import pandas as pd\n",
    "import random\n",
    "from tqdm import tqdm\n",
    "\n",
    "# Set random seed\n",
    "random.seed(42)\n",
    "\n",
    "# File paths\n",
    "review_file = \"/Users/ujjwalbhatta/Downloads/Electronics.jsonl\"\n",
    "meta_file = \"/Users/ujjwalbhatta/Downloads/meta_Electronics.jsonl\"\n",
    "output_file = \"data/electronics_merged_30k.csv\"\n",
    "\n",
    "def early_sampling():\n",
    "    print(\"Sampling 50k reviews first...\")\n",
    "    sampled_reviews = []\n",
    "    sample_target = 50000\n",
    "    \n",
    "    with open(review_file, 'r') as f:\n",
    "        total_lines = sum(1 for _ in f)  # Count lines first\n",
    "    \n",
    "    # Calculate sampling probability\n",
    "    sample_prob = min(1.0, sample_target / total_lines)\n",
    "    \n",
    "    with open(review_file, 'r') as f:\n",
    "        for line in tqdm(f, desc=\"Sampling reviews\", total=total_lines):\n",
    "            if random.random() < sample_prob:\n",
    "                review = json.loads(line.strip())\n",
    "                if review.get('parent_asin'):  # Only keep reviews with parent_asin\n",
    "                    sampled_reviews.append(review)\n",
    "                if len(sampled_reviews) >= sample_target:\n",
    "                    break\n",
    "    \n",
    "    print(f\"Sampled {len(sampled_reviews)} reviews\")\n",
    "    \n",
    "    # Step 2: Get unique parent_asins from sampled reviews\n",
    "    unique_asins = set(review['parent_asin'] for review in sampled_reviews)\n",
    "    print(f\"Need metadata for {len(unique_asins)} unique products\")\n",
    "    \n",
    "    # Step 3: Load only needed metadata\n",
    "    print(\"Loading relevant metadata...\")\n",
    "    meta_dict = {}\n",
    "    with open(meta_file, 'r') as f:\n",
    "        for line in tqdm(f, desc=\"Reading metadata\"):\n",
    "            item = json.loads(line.strip())\n",
    "            parent_asin = item.get('parent_asin')\n",
    "            if parent_asin and parent_asin in unique_asins:\n",
    "                meta_dict[parent_asin] = item\n",
    "    \n",
    "    print(f\"Loaded metadata for {len(meta_dict)} products\")\n",
    "    \n",
    "    # Step 4: Merge and create final sample\n",
    "    merged_data = []\n",
    "    for review in tqdm(sampled_reviews, desc=\"Merging data\"):\n",
    "        parent_asin = review.get('parent_asin')\n",
    "        if parent_asin in meta_dict:\n",
    "            meta = meta_dict[parent_asin]\n",
    "            record = {\n",
    "                'main_category': meta.get('main_category'),\n",
    "                'product_title': meta.get('title'),\n",
    "                'average_rating': meta.get('average_rating'),\n",
    "                'rating_number': meta.get('rating_number'),\n",
    "                'price': meta.get('price'),\n",
    "                'description': meta.get('description'),\n",
    "                'parent_asin': parent_asin,\n",
    "                'details': meta.get('details'),\n",
    "                'rating': review.get('rating'),\n",
    "                'review_title': review.get('title'),\n",
    "                'text': review.get('text'),\n",
    "                'helpful_vote': review.get('helpful_vote')\n",
    "            }\n",
    "            merged_data.append(record)\n",
    "    \n",
    "    # Final sample of 30k\n",
    "    final_sample_size = min(30000, len(merged_data))\n",
    "    final_sample = random.sample(merged_data, final_sample_size)\n",
    "    \n",
    "    # Save to CSV\n",
    "    df = pd.DataFrame(final_sample)\n",
    "    df.to_csv(output_file, index=False)\n",
    "    print(f\"Saved {len(df)} records to {output_file}\")\n",
    "\n",
    "# Run the fastest approach\n",
    "if __name__ == \"__main__\":\n",
    "    early_sampling() \n"
   ]
  },
  {
   "cell_type": "code",
   "execution_count": null,
   "metadata": {},
   "outputs": [],
   "source": []
  }
 ],
 "metadata": {
  "kernelspec": {
   "display_name": "base",
   "language": "python",
   "name": "python3"
  },
  "language_info": {
   "codemirror_mode": {
    "name": "ipython",
    "version": 3
   },
   "file_extension": ".py",
   "mimetype": "text/x-python",
   "name": "python",
   "nbconvert_exporter": "python",
   "pygments_lexer": "ipython3",
   "version": "3.12.2"
  }
 },
 "nbformat": 4,
 "nbformat_minor": 2
}
